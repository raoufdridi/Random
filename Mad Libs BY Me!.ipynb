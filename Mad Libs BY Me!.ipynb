{
  "nbformat": 4,
  "nbformat_minor": 0,
  "metadata": {
    "colab": {
      "name": "Mad_Libs.ipynb",
      "provenance": [],
      "include_colab_link": true
    },
    "kernelspec": {
      "name": "python3",
      "display_name": "Python 3"
    }
  },
  "cells": [
    {
      "cell_type": "markdown",
      "metadata": {
        "id": "view-in-github",
        "colab_type": "text"
      },
      "source": [
        "<a href=\"https://colab.research.google.com/github/Awesome-Areej/Random/blob/master/Mad%20Libs%20BY%20Me!.ipynb\" target=\"_parent\"><img src=\"https://colab.research.google.com/assets/colab-badge.svg\" alt=\"Open In Colab\"/></a>"
      ]
    },
    {
      "cell_type": "code",
      "metadata": {
        "id": "NFoYz7iOUSoC",
        "colab_type": "code",
        "colab": {
          "base_uri": "https://localhost:8080/",
          "height": 374
        },
        "outputId": "5d26de3d-3ff5-47b6-e67a-78158bc6c414"
      },
      "source": [
        "import this"
      ],
      "execution_count": null,
      "outputs": [
        {
          "output_type": "stream",
          "text": [
            "The Zen of Python, by Tim Peters\n",
            "\n",
            "Beautiful is better than ugly.\n",
            "Explicit is better than implicit.\n",
            "Simple is better than complex.\n",
            "Complex is better than complicated.\n",
            "Flat is better than nested.\n",
            "Sparse is better than dense.\n",
            "Readability counts.\n",
            "Special cases aren't special enough to break the rules.\n",
            "Although practicality beats purity.\n",
            "Errors should never pass silently.\n",
            "Unless explicitly silenced.\n",
            "In the face of ambiguity, refuse the temptation to guess.\n",
            "There should be one-- and preferably only one --obvious way to do it.\n",
            "Although that way may not be obvious at first unless you're Dutch.\n",
            "Now is better than never.\n",
            "Although never is often better than *right* now.\n",
            "If the implementation is hard to explain, it's a bad idea.\n",
            "If the implementation is easy to explain, it may be a good idea.\n",
            "Namespaces are one honking great idea -- let's do more of those!\n"
          ],
          "name": "stdout"
        }
      ]
    },
    {
      "cell_type": "code",
      "metadata": {
        "id": "XmPZKGysVFBt",
        "colab_type": "code",
        "colab": {}
      },
      "source": [
        "import random"
      ],
      "execution_count": null,
      "outputs": []
    },
    {
      "cell_type": "code",
      "metadata": {
        "id": "-KOgUob2VSXo",
        "colab_type": "code",
        "colab": {}
      },
      "source": [
        "x = [\"Great!\", \"Cool!\", \"Nice!\", \"Awesome!\", \"LOL! This story is going to be so funny!\", \"I can't wait for you to hear this story!\", \"This is hilarious!\", \"Right now, I'm doubled over with laughter!\", \":D\", \"This is even funnier than the milk incident in the cafeteria three years ago!\", \"OMG! Do you know how funny this story is going to turn out?\", \"It's like you're a pro comedian!\", \"HaHa! This is funny stuff!\", \"This is going to be fun-ny!\", \"*Cough, Cough* Sorry about that... I was having a water break, and reading the story over... trust me, it's not a good mix!\", \"Not that far till the end!\", \"Wow! Mad Libs is fun, don't you think?\"]"
      ],
      "execution_count": null,
      "outputs": []
    },
    {
      "cell_type": "code",
      "metadata": {
        "id": "nS3DLMm0SMgg",
        "colab_type": "code",
        "colab": {}
      },
      "source": [
        "def Cat_Fancy():\n",
        "  name = input (\"Please type in a name you would like to use for this code.\\n It can be your real name, a nickname, a friends or family members name, or a name you like to call yourself, or even a book characters name!\")\n",
        "  print (\"Loading Mad Lib App\")\n",
        "  print (\"Finished processing. Now opening app.\")\n",
        "  print (\"Thank you for waiting.\")\n",
        "  print (name + \"(me): /MadLibBot\")\n",
        "  print (\"Bot connected\")\n",
        "  print (\"Welcome to Mad Libs! Today's story is Cat Fancy! Let's begin. \")\n",
        "  a1 = input (\"Can you give me an adjective? \\n Don't forget, an adjective is a describing word, like cool, or weird.\")\n",
        "  np1 = input ( random.choice(x) + \" Now, can I have a plural noun? \\n If you don't know, a noun is a person place or thing. \\n Plural means more than one. A plural noun would be like... um, tomatoes! Or bikes!\")\n",
        "  a2 = input (random.choice(x) + \" Cool! Can I have another adjective?\")\n",
        "  np2 = input (random.choice(x) + \" Nice! Can I have a plural noun?\")\n",
        "  a3 = input (random.choice(x) + \" Awesome! Can I have an adjective?\")\n",
        "  a4 = input (random.choice(x) + \" LOL! This story is going to be so funny! \\n Can I have another adjective?\")\n",
        "  np3 = input (random.choice(x) + \" Can I have a plural noun?\")\n",
        "  a5 = input (random.choice(x) + \" I can't wait for you to hear this story! Can I have an adjective?\") \n",
        "  n1 = input (random.choice(x) + \" Can I have a noun? If you forgot, a noun is a person, place or thing.\")\n",
        "  ad1 = input (random.choice(x) + \" Can I have an adverb? If you don't know, an adverb is... oh i don't know either! Let me see here.... ah! \\n Here it is! An adverb is a word that describes a verb (like in this sentence; he sings loudly), \\n an adjective (like; very tall), another adverb (like; ended too quickly), \\n or even a whole sentence (like; Fortunately, I had brought an umbrella). \\n Btw, adverbs often end in -ly.\")\n",
        "  pobP = input (random.choice(x) + \" Can I have a part of the body, but plural? (Not literally! :P)\")\n",
        "  n2 = input (random.choice(x) + \" Can I have a noun? Don't forget, a noun is a person, place, or thing!\")\n",
        "  np4 = input (random.choice(x) + \" Can I have a plural noun? And if you're tired, don't worry, we only have one more!\")\n",
        "  a6 = input (random.choice(x) + \"Last one! Can I have a adjective?\")\n",
        "  print (\"Well done, \" + name +\"! Let's hear the story...\")\n",
        "  print (\"You might say the ancient egyptians were \" + a1 + \" cat people. \\n *Snort* Sorry! I'll try to hold it in, but this is hilarious!\")\n",
        "  print (\"After all, they built an entire religion around worshipping their feline \" + np1 +\"! Ha!\")\n",
        "  print (\"Cats were well liked by Egyptians for their ability to kill \" + a2 + \" vermin like rodents and wild \" + np2 + \". \\n Seriously? Cats hunt \" + np2 + \"? I gotta try that with my cat, Amy!\")\n",
        "  print (\"Cats were thought to be graceful and \" + a3 + \" creatures! LOL!\")\n",
        "  print (\"Some \" + a4 + \" cats were mummified and buried in \" + np3 + \" with their \" + a5 + \" owners.\")\n",
        "  print (\"Harming a cat was a crime punishable by \" + n1 + \".\")\n",
        "  print (\"And when a cat died, it's family would mourn \" + ad1 + \", shaving their \" + pobP + \" as a symbol of their \" + n2 + \". \\n Lol! Can you belive this \" + name + \"!?\")\n",
        "  print (\"So maybe it's a little funny that ancient \" + np4 + \" worshipped cats. Wait... Hold up. Ancient \" + np4 + \"?! Worshipping cats?! You're kidding me...\")\n",
        "  print (\"But then again, so does the \" + a6 + \" Internet! *Mmph!* (stiffled giggles)\")\n",
        "  print (\"Okay. \" + str(name) + \" that was.... HILARIOUS!!!! \\n I learned a TON of new stuff. \\n Did you know ancient egyptians liked cats because they killed wild \" + np2 ++ \"?!\")\n",
        "  print (\"Well, anyway, that was super fun! Let's do it again sometime!\")\n",
        "  print (\"Bye \" + str(name) + \"!\")\n",
        "  print (\" Bot disconnected \")\n",
        "  print (\"New code will come soon! \\n For now play again, or download the real Mad Libs App now!!!\")"
      ],
      "execution_count": null,
      "outputs": []
    },
    {
      "cell_type": "code",
      "metadata": {
        "id": "uNU5IsBqgwIM",
        "colab_type": "code",
        "colab": {
          "base_uri": "https://localhost:8080/",
          "height": 1000
        },
        "outputId": "e806b170-ce7c-4140-816c-48fd9ff05d4a"
      },
      "source": [
        "Cat_Fancy()"
      ],
      "execution_count": null,
      "outputs": [
        {
          "output_type": "stream",
          "text": [
            "Please type in a name you would like to use for this code.\n",
            " It can be your real name, a nickname, a friends or family members name, or a name you like to call yourself, or even a book characters name!mama\n",
            "Loading Mad Lib App\n",
            "Finished processing. Now opening app.\n",
            "Thank you for waiting.\n",
            "mama(me): /MadLibBot\n",
            "Bot connected\n",
            "Welcome to Mad Libs! Today's story is Cat Fancy! Let's begin. \n",
            "Can you give me an adjective? \n",
            " Don't forget, an adjective is a describing word, like cool, or weird.beautiful\n",
            "Not that far till the end! Now, can I have a plural noun? \n",
            " If you don't know, a noun is a person place or thing. \n",
            " Plural means more than one. A plural noun would be like... um, tomatoes! Or bikes!books\n",
            "Not that far till the end! Cool! Can I have another adjective?nice\n",
            "I can't wait for you to hear this story! Nice! Can I have a plural noun?ladies\n",
            ":D Awesome! Can I have an adjective?cool\n",
            "Not that far till the end! LOL! This story is going to be so funny! \n",
            " Can I have another adjective?crazy\n",
            "Cool! Can I have a plural noun?girls\n",
            "It's like you're a pro comedian! I can't wait for you to hear this story! Can I have an adjective?smart\n",
            "LOL! This story is going to be so funny! Can I have a noun? If you forgot, a noun is a person, place or thing.Areej\n",
            "Nice! Can I have an adverb? If you don't know, an adverb is... oh i don't know either! Let me see here.... ah! \n",
            " Here it is! An adverb is a word that describes a verb (like in this sentence; he sings loudly), \n",
            " an adjective (like; very tall), another adverb (like; ended too quickly), \n",
            " or even a whole sentence (like; Fortunately, I had brought an umbrella). \n",
            " Btw, adverbs often end in -ly.loudly\n",
            "Not that far till the end! Can I have a part of the body, but plural? (Not literally! :P)eyes\n",
            "*Cough, Cough* Sorry about that... I was having a water break, and reading the story over... trust me, it's not a good mix! Can I have a noun? Don't forget, a noun is a person, place, or thing!chicken\n",
            "It's like you're a pro comedian! Can I have a plural noun? And if you're tired, don't worry, we only have one more!chicken nuggets\n",
            "This is hilarious!Last one! Can I have a adjective?buttery\n",
            "Well done, mama! Let's hear the story...\n",
            "You might say the ancient egyptians were beautiful cat people. \n",
            " *Snort* Sorry! I'll try to hold it in, but this is hilarious!\n",
            "After all, they built an entire religion around worshipping their feline books! Ha!\n",
            "Cats were well liked by Egyptians for their ability to kill nice vermin like rodents and wild ladies. \n",
            " Seriously? Cats hunt ladies? I gotta try that with my cat, Amy!\n",
            "Cats were thought to be graceful and cool creatures! LOL!\n",
            "Some crazy cats were mummified and buried in girls with their smart owners.\n",
            "Harming a cat was a crime punishable by Areej.\n",
            "And when a cat died, it's family would mourn loudly, shaving their eyes as a symbol of their chicken. \n",
            " Lol! Can you belive this mama!?\n",
            "So maybe it's a little funny that ancient chicken nuggets worshipped cats. Wait... Hold up. Ancient chicken nuggets?! Worshipping cats?! You're kidding me...\n",
            "But then again, so does the buttery Internet! *Mmph!* (stiffled giggles)\n"
          ],
          "name": "stdout"
        },
        {
        }
      ]
    },
    {
      "cell_type": "code",
      "metadata": {
        "id": "0qY3Qnyooyhf",
        "colab_type": "code",
        "colab": {}
      },
      "source": [
        ""
      ],
      "execution_count": null,
      "outputs": []
    }
  ]
}
